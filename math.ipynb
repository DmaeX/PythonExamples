{
 "cells": [
  {
   "cell_type": "markdown",
   "metadata": {},
   "source": [
    "# abs() - This is the absolute value, which takes in a numeric type (int or float) and returns the absolute value of it (the positive value)"
   ]
  },
  {
   "cell_type": "code",
   "execution_count": 2,
   "metadata": {},
   "outputs": [
    {
     "name": "stdout",
     "output_type": "stream",
     "text": [
      "9\n"
     ]
    }
   ],
   "source": [
    "x = abs(-9)\n",
    "\n",
    "print(x)\n",
    "\n"
   ]
  },
  {
   "cell_type": "markdown",
   "metadata": {},
   "source": [
    "# Max() and Min() functions from a list or a tuple "
   ]
  },
  {
   "cell_type": "code",
   "execution_count": 6,
   "metadata": {},
   "outputs": [
    {
     "name": "stdout",
     "output_type": "stream",
     "text": [
      "5\n",
      "c\n"
     ]
    }
   ],
   "source": [
    "# max() gives you the maximum value from the arguments that you pass\n",
    "x = max(1, 2, 5)\n",
    "print(x)\n",
    "\n",
    "y = max([\"a\", \"b\", \"c\"])\n",
    "print(y)"
   ]
  },
  {
   "cell_type": "code",
   "execution_count": 9,
   "metadata": {},
   "outputs": [
    {
     "name": "stdout",
     "output_type": "stream",
     "text": [
      "1\n",
      "a\n"
     ]
    }
   ],
   "source": [
    "# min() gives you the minimum value from the arguments that you pass\n",
    "x = min(1, 2, 3)\n",
    "print(x)\n",
    "\n",
    "y = min([\"a\", \"b\", \"c\"])\n",
    "print(y)"
   ]
  },
  {
   "cell_type": "markdown",
   "metadata": {},
   "source": [
    "# sum() - returns the sum of the values given in a list or a tuple "
   ]
  },
  {
   "cell_type": "code",
   "execution_count": 13,
   "metadata": {},
   "outputs": [
    {
     "name": "stdout",
     "output_type": "stream",
     "text": [
      "15\n",
      "7\n"
     ]
    }
   ],
   "source": [
    "x = ([1, 2, 3, 4, 5])\n",
    "print(sum(x))\n",
    "\n",
    "y = ((1, 2, 3, -5, 6))\n",
    "print(sum(y))"
   ]
  },
  {
   "cell_type": "markdown",
   "metadata": {},
   "source": [
    "# round() - takes in a number and takes in the number of digits that you would like to round this number to"
   ]
  },
  {
   "cell_type": "code",
   "execution_count": 18,
   "metadata": {},
   "outputs": [
    {
     "name": "stdout",
     "output_type": "stream",
     "text": [
      "3\n",
      "3.5\n",
      "3.46\n",
      "3.558\n"
     ]
    }
   ],
   "source": [
    "x = (3.45)\n",
    "print(round(x))\n",
    "\n",
    "# rounds to the nearest 1st digit\n",
    "y = (round(3.45, 1))\n",
    "print(y)\n",
    "\n",
    "# rounds to the nearest 2nd digit\n",
    "z = round(3.456, 2)\n",
    "print(z)\n",
    "\n",
    "# rounds to the nearest 3rd digit \n",
    "a = round(3.5585, 3)\n",
    "print(a)\n",
    "\n"
   ]
  },
  {
   "cell_type": "markdown",
   "metadata": {},
   "source": [
    "# Import Math package "
   ]
  },
  {
   "cell_type": "code",
   "execution_count": 22,
   "metadata": {},
   "outputs": [
    {
     "name": "stdout",
     "output_type": "stream",
     "text": [
      "0.8939966636005579\n",
      "1.0\n",
      "-1.0\n"
     ]
    }
   ],
   "source": [
    "import math \n",
    "\n",
    "# Returns radians, not decimals \n",
    "\n",
    "x = math.sin(90)\n",
    "print(x)\n",
    "\n",
    "y = math.cos(0)\n",
    "print(y)\n",
    "\n",
    "z = math.cos(math.pi)\n",
    "print(z)"
   ]
  },
  {
   "cell_type": "markdown",
   "metadata": {},
   "source": [
    "# random module - provides many functions that you can use to generate random numbers and to make random choices"
   ]
  },
  {
   "cell_type": "code",
   "execution_count": 30,
   "metadata": {},
   "outputs": [
    {
     "name": "stdout",
     "output_type": "stream",
     "text": [
      "5\n",
      "7\n",
      "them\n"
     ]
    }
   ],
   "source": [
    "import random\n",
    "\n",
    "# generates random numbers\n",
    "random_number = random.randint(1, 10)\n",
    "print(random_number)\n",
    "\n",
    "# generates random numbers from a range provided (start, stop, step)\n",
    "random_number2 = random.randrange(1, 10, 2)\n",
    "print(random_number2)\n",
    "\n",
    "# generates random elements from a list provided \n",
    "lst = [\"he\", \"she\", \"they\", \"them\"]\n",
    "random_element = random.choice(lst)\n",
    "print(random_element)\n",
    "\n",
    "\n"
   ]
  }
 ],
 "metadata": {
  "kernelspec": {
   "display_name": "Python 3.8.2 64-bit",
   "language": "python",
   "name": "python3"
  },
  "language_info": {
   "codemirror_mode": {
    "name": "ipython",
    "version": 3
   },
   "file_extension": ".py",
   "mimetype": "text/x-python",
   "name": "python",
   "nbconvert_exporter": "python",
   "pygments_lexer": "ipython3",
   "version": "3.8.2"
  },
  "orig_nbformat": 4,
  "vscode": {
   "interpreter": {
    "hash": "31f2aee4e71d21fbe5cf8b01ff0e069b9275f58929596ceb00d14d90e3e16cd6"
   }
  }
 },
 "nbformat": 4,
 "nbformat_minor": 2
}
