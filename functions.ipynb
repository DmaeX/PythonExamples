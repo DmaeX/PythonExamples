{
 "cells": [
  {
   "cell_type": "code",
   "execution_count": 1,
   "metadata": {},
   "outputs": [
    {
     "name": "stdout",
     "output_type": "stream",
     "text": [
      "Hello There\n"
     ]
    }
   ],
   "source": [
    "def print_value():\n",
    "    print(\"Hello There\")\n",
    "\n",
    "print_value()    "
   ]
  },
  {
   "cell_type": "markdown",
   "metadata": {},
   "source": [
    "# An example of a function that takes in multiple parameters \n"
   ]
  },
  {
   "cell_type": "code",
   "execution_count": 7,
   "metadata": {},
   "outputs": [],
   "source": [
    "# An example of a function that takes in multiple parameters "
   ]
  },
  {
   "cell_type": "code",
   "execution_count": 3,
   "metadata": {},
   "outputs": [
    {
     "name": "stdout",
     "output_type": "stream",
     "text": [
      "15\n"
     ]
    }
   ],
   "source": [
    "def add_5(x, y):\n",
    "    result = x + y + 5\n",
    "    print(result)\n",
    "add_5(5, 5)    "
   ]
  },
  {
   "cell_type": "markdown",
   "metadata": {},
   "source": [
    "# An example of using the return statement in a function \n"
   ]
  },
  {
   "cell_type": "code",
   "execution_count": 5,
   "metadata": {},
   "outputs": [
    {
     "name": "stdout",
     "output_type": "stream",
     "text": [
      "-15\n"
     ]
    }
   ],
   "source": [
    "def get_negative_sum(x, y, z):\n",
    "    result = x + y + z\n",
    "    if result < 0:\n",
    "        return result\n",
    "    # Do no need an else statement because using the return keyword ends the function\n",
    "    return 1\n",
    "\n",
    "x = -5\n",
    "y = -5\n",
    "z = -5\n",
    "\n",
    "result = get_negative_sum(x, y, z)\n",
    "print(result)"
   ]
  },
  {
   "cell_type": "markdown",
   "metadata": {},
   "source": [
    "# Default parameters and optional parameters"
   ]
  },
  {
   "cell_type": "code",
   "execution_count": 6,
   "metadata": {},
   "outputs": [
    {
     "name": "stdout",
     "output_type": "stream",
     "text": [
      "0\n",
      "1\n",
      "2\n",
      "3\n",
      "4\n",
      "5\n",
      "6\n",
      "7\n",
      "8\n",
      "9\n",
      "10\n",
      "11\n",
      "12\n",
      "13\n",
      "14\n",
      "15\n",
      "16\n",
      "17\n",
      "18\n",
      "19\n"
     ]
    }
   ],
   "source": [
    "# Calling a function by using the parameter name\n",
    "\n",
    "def new_range(start=0, stop=10):\n",
    "    x = start\n",
    "\n",
    "    while x < stop: \n",
    "        print(x)\n",
    "        x += 1\n",
    "new_range(stop=20)        "
   ]
  },
  {
   "cell_type": "code",
   "execution_count": 1,
   "metadata": {},
   "outputs": [
    {
     "name": "stdout",
     "output_type": "stream",
     "text": [
      "0\n",
      "1\n",
      "2\n",
      "3\n",
      "4\n",
      "5\n",
      "6\n",
      "7\n",
      "8\n",
      "9\n"
     ]
    }
   ],
   "source": [
    "# An example of using default parameters \n",
    "\n",
    "def new_range(start, stop):\n",
    "    x = start\n",
    "    while x < stop:\n",
    "        print(x)\n",
    "        x += 1\n",
    "new_range(start=0, stop=10)            \n"
   ]
  },
  {
   "cell_type": "markdown",
   "metadata": {},
   "source": [
    "# Returning multiple values from a function"
   ]
  },
  {
   "cell_type": "code",
   "execution_count": 2,
   "metadata": {},
   "outputs": [
    {
     "name": "stdout",
     "output_type": "stream",
     "text": [
      "(6, 6)\n"
     ]
    }
   ],
   "source": [
    "def return_multiple_values(x, y):\n",
    "    return x + 1, y + 1\n",
    "result = return_multiple_values(5, 5)\n",
    "print(result)    \n"
   ]
  },
  {
   "cell_type": "markdown",
   "metadata": {},
   "source": [
    "# An example of accepting two lists of numbers then return the sum of both of the lists of numbers"
   ]
  },
  {
   "cell_type": "code",
   "execution_count": 3,
   "metadata": {},
   "outputs": [
    {
     "name": "stdout",
     "output_type": "stream",
     "text": [
      "10 -10\n"
     ]
    }
   ],
   "source": [
    "def sum_lists(list1, list2): \n",
    "    list1_sum = sum_list(list1)\n",
    "    list2_sum = sum_list(list2) \n",
    "    return list1_sum, list2_sum\n",
    "\n",
    "def sum_list(lst):\n",
    "    total = 0\n",
    "\n",
    "    for num in lst:\n",
    "        total += num\n",
    "    return total    \n",
    "\n",
    "sum1, sum2 = sum_lists([1, 2, 3, 4], [-1, -2, -3, -4])  \n",
    "print(sum1, sum2)  "
   ]
  },
  {
   "cell_type": "markdown",
   "metadata": {},
   "source": [
    "# An example of a nested function "
   ]
  },
  {
   "cell_type": "code",
   "execution_count": 4,
   "metadata": {},
   "outputs": [
    {
     "name": "stdout",
     "output_type": "stream",
     "text": [
      "10 -10\n"
     ]
    }
   ],
   "source": [
    "def sum_lists(list1, list2): \n",
    "    def sum_list(lst):\n",
    "        total = 0\n",
    "\n",
    "        for num in lst:\n",
    "            total += num\n",
    "        return total  \n",
    "\n",
    "    list1_sum = sum_list(list1)\n",
    "    list2_sum = sum_list(list2) \n",
    "    return list1_sum, list2_sum\n",
    "\n",
    "sum1, sum2 = sum_lists([1, 2, 3, 4], [-1, -2, -3, -4])  \n",
    "print(sum1, sum2)     "
   ]
  },
  {
   "cell_type": "markdown",
   "metadata": {},
   "source": [
    "# Know the difference between positional and keyword arguments "
   ]
  },
  {
   "cell_type": "code",
   "execution_count": 5,
   "metadata": {},
   "outputs": [
    {
     "data": {
      "text/plain": [
       "(2, 3)"
      ]
     },
     "execution_count": 5,
     "metadata": {},
     "output_type": "execute_result"
    }
   ],
   "source": [
    "def return_values(value1, value2):\n",
    "    return value1, value2\n",
    "# example of positional arguments\n",
    "return_values(2, 3)"
   ]
  },
  {
   "cell_type": "code",
   "execution_count": 6,
   "metadata": {},
   "outputs": [
    {
     "data": {
      "text/plain": [
       "(2, 3)"
      ]
     },
     "execution_count": 6,
     "metadata": {},
     "output_type": "execute_result"
    }
   ],
   "source": [
    "def return_values(value1, value2):\n",
    "    return value1, value2\n",
    "# example of keyword arguments\n",
    "return_values(value1=2, value2=3)"
   ]
  }
 ],
 "metadata": {
  "kernelspec": {
   "display_name": "Python 3.8.2 64-bit",
   "language": "python",
   "name": "python3"
  },
  "language_info": {
   "codemirror_mode": {
    "name": "ipython",
    "version": 3
   },
   "file_extension": ".py",
   "mimetype": "text/x-python",
   "name": "python",
   "nbconvert_exporter": "python",
   "pygments_lexer": "ipython3",
   "version": "3.8.2"
  },
  "orig_nbformat": 4,
  "vscode": {
   "interpreter": {
    "hash": "31f2aee4e71d21fbe5cf8b01ff0e069b9275f58929596ceb00d14d90e3e16cd6"
   }
  }
 },
 "nbformat": 4,
 "nbformat_minor": 2
}
