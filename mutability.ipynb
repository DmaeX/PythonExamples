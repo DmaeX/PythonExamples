{
 "cells": [
  {
   "cell_type": "markdown",
   "metadata": {},
   "source": [
    "# There are two types of mutability: \n",
    "1. Immutable objects or immutable data types\n",
    "2. Mutable objects or mutable data types "
   ]
  },
  {
   "cell_type": "markdown",
   "metadata": {},
   "source": [
    "# Immutable (cannot change) objects or immutable data types: \n",
    "- int\n",
    "- float\n",
    "- str\n",
    "- tuple \n",
    "- bool\n",
    "- none \n",
    "\n",
    "# Mutable (can change) objects or mutable data types: \n",
    "- list\n",
    "- set\n",
    "- dictionaries \n",
    "\n"
   ]
  },
  {
   "cell_type": "code",
   "execution_count": 8,
   "metadata": {},
   "outputs": [
    {
     "name": "stdout",
     "output_type": "stream",
     "text": [
      "4 2\n",
      "9\n",
      "34\n"
     ]
    }
   ],
   "source": [
    "x = 2\n",
    "y = x\n",
    "x += 2\n",
    "\n",
    "print(x, y)\n",
    "\n",
    "class habib:\n",
    "    def __init__(self):\n",
    "        self.x = 8\n",
    "\n",
    "    def copy(self):\n",
    "        tmp = habib()\n",
    "        tmp.x = self.x\n",
    "        return tmp\n",
    "\n",
    "h1 = habib()\n",
    "h1.x = 9\n",
    "\n",
    "h2 = h1\n",
    "h2.x = 34\n",
    "\n",
    "print(h1.x)\n",
    "print(h2.x)\n",
    "\n",
    "\n"
   ]
  },
  {
   "cell_type": "markdown",
   "metadata": {},
   "source": [
    "# Use the ID function to compare the two objects - to see the similarities or differences "
   ]
  },
  {
   "cell_type": "code",
   "execution_count": 16,
   "metadata": {},
   "outputs": [
    {
     "name": "stdout",
     "output_type": "stream",
     "text": [
      "4329315056 4329315056\n"
     ]
    }
   ],
   "source": [
    "a = 1\n",
    "b = a\n",
    "\n",
    "print(id(a), id(b))"
   ]
  },
  {
   "cell_type": "code",
   "execution_count": 17,
   "metadata": {},
   "outputs": [
    {
     "name": "stdout",
     "output_type": "stream",
     "text": [
      "4329315056 4329315056\n"
     ]
    }
   ],
   "source": [
    "a = 1\n",
    "b = 1\n",
    "\n",
    "print(id(a), id(b))"
   ]
  },
  {
   "cell_type": "code",
   "execution_count": 15,
   "metadata": {},
   "outputs": [
    {
     "name": "stdout",
     "output_type": "stream",
     "text": [
      "False\n",
      "2 1\n"
     ]
    }
   ],
   "source": [
    "a = 1\n",
    "b = a\n",
    "a += 1\n",
    "\n",
    "print(a is b)\n",
    "print(a, b)\n"
   ]
  },
  {
   "cell_type": "code",
   "execution_count": 19,
   "metadata": {},
   "outputs": [
    {
     "name": "stdout",
     "output_type": "stream",
     "text": [
      "{'k': 'v', 'a': 'b'} {'k': 'v', 'a': 'b'}\n",
      "True\n"
     ]
    }
   ],
   "source": [
    "# Example of mutable data types in dictionaries \n",
    "\n",
    "d = {}\n",
    "d[\"k\"] = \"v\"\n",
    "\n",
    "a = d \n",
    "a[\"a\"] = \"b\"\n",
    "\n",
    "print(d, a)\n",
    "print(d is a)"
   ]
  },
  {
   "cell_type": "code",
   "execution_count": 20,
   "metadata": {},
   "outputs": [
    {
     "name": "stdout",
     "output_type": "stream",
     "text": [
      "{1, 2} {1, 2}\n",
      "True\n"
     ]
    }
   ],
   "source": [
    "s1 = set()\n",
    "s2 = s1\n",
    "\n",
    "s1.add(1)\n",
    "s2.add(2)\n",
    "\n",
    "print(s1, s2)\n",
    "print(s1 is s2)"
   ]
  },
  {
   "cell_type": "markdown",
   "metadata": {},
   "source": [
    "# Example on how to make a copy of an object "
   ]
  },
  {
   "cell_type": "code",
   "execution_count": 21,
   "metadata": {},
   "outputs": [
    {
     "name": "stdout",
     "output_type": "stream",
     "text": [
      "[1, 2, 3, 4, 2] [1, 2, 3, 4]\n",
      "False\n"
     ]
    }
   ],
   "source": [
    "a = [1, 2, 3, 4]\n",
    "b = a[:]\n",
    "\n",
    "a.append(2)\n",
    "print(a, b)\n",
    "print(a is b)"
   ]
  },
  {
   "cell_type": "code",
   "execution_count": 23,
   "metadata": {},
   "outputs": [
    {
     "name": "stdout",
     "output_type": "stream",
     "text": [
      "{1, 2, 3, 4} {1, 2, 3}\n",
      "False\n"
     ]
    }
   ],
   "source": [
    "# Example on how to make a shallow copy \n",
    "\n",
    "s1 = {1, 2, 3}\n",
    "s2 = s1.copy()\n",
    "\n",
    "s1.add(4)\n",
    "print(s1, s2)\n",
    "print(s1 is s2)\n"
   ]
  }
 ],
 "metadata": {
  "kernelspec": {
   "display_name": "Python 3.8.2 64-bit",
   "language": "python",
   "name": "python3"
  },
  "language_info": {
   "codemirror_mode": {
    "name": "ipython",
    "version": 3
   },
   "file_extension": ".py",
   "mimetype": "text/x-python",
   "name": "python",
   "nbconvert_exporter": "python",
   "pygments_lexer": "ipython3",
   "version": "3.8.2"
  },
  "orig_nbformat": 4,
  "vscode": {
   "interpreter": {
    "hash": "31f2aee4e71d21fbe5cf8b01ff0e069b9275f58929596ceb00d14d90e3e16cd6"
   }
  }
 },
 "nbformat": 4,
 "nbformat_minor": 2
}
