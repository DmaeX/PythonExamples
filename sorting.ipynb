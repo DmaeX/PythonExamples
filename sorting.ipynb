{
 "cells": [
  {
   "cell_type": "markdown",
   "metadata": {},
   "source": [
    "# Sorting - sorts different data structures using built-in sorting methods "
   ]
  },
  {
   "cell_type": "markdown",
   "metadata": {},
   "source": [
    "# sorted() - returns a new version of the object but sorted \n",
    "# .sort - sorts the object in place i.e. a list. Rather than creating a new object, you can modify what is in a list"
   ]
  },
  {
   "cell_type": "code",
   "execution_count": 4,
   "metadata": {},
   "outputs": [
    {
     "name": "stdout",
     "output_type": "stream",
     "text": [
      "[1, 1, 2, 3, 3, 3, 4, 5, 8, 9]\n",
      "[1, 1, 2, 3, 3, 3, 4, 5, 8, 9]\n",
      "[3, 4, 5, 2, 3, 1, 1, 8, 3, 9]\n"
     ]
    }
   ],
   "source": [
    "# modifies the object\n",
    "lst = [3, 4, 5, 2, 3, 1, 1, 8, 3, 9]\n",
    "lst.sort()\n",
    "print(lst)\n",
    "\n",
    "# creates a new object\n",
    "lst = [3, 4, 5, 2, 3, 1, 1, 8, 3, 9]\n",
    "print(sorted(lst))\n",
    "print(lst)\n"
   ]
  },
  {
   "cell_type": "code",
   "execution_count": 7,
   "metadata": {},
   "outputs": [
    {
     "name": "stdout",
     "output_type": "stream",
     "text": [
      "[9, 8, 5, 4, 3, 3, 3, 2, 1, 1]\n",
      "[3, 4, 5, 2, 3, 1, 1, 8, 3, 9]\n"
     ]
    }
   ],
   "source": [
    "# to return a list in descending order\n",
    "lst = [3, 4, 5, 2, 3, 1, 1, 8, 3, 9]\n",
    "lst.sort(reverse=True)\n",
    "print(lst)\n",
    "\n",
    "lst = [3, 4, 5, 2, 3, 1, 1, 8, 3, 9]\n",
    "sorted(lst, reverse=True)\n",
    "print(lst)"
   ]
  },
  {
   "cell_type": "markdown",
   "metadata": {},
   "source": [
    "# Cannot use .sort() method in Tuples because Tuples are immutable "
   ]
  },
  {
   "cell_type": "code",
   "execution_count": 10,
   "metadata": {},
   "outputs": [
    {
     "name": "stdout",
     "output_type": "stream",
     "text": [
      "(9, 8, 5, 4, 3, 3, 3, 2, 1, 1)\n"
     ]
    }
   ],
   "source": [
    "lst = (3, 4, 5, 2, 3, 1, 1, 8, 3, 9)\n",
    "print(tuple(sorted(lst, reverse=True)))\n"
   ]
  },
  {
   "cell_type": "markdown",
   "metadata": {},
   "source": [
    "# sort through a nested list"
   ]
  },
  {
   "cell_type": "code",
   "execution_count": 13,
   "metadata": {},
   "outputs": [
    {
     "name": "stdout",
     "output_type": "stream",
     "text": [
      "[[-3, -4], [1, -2], [2, -6], [5, -1]]\n",
      "[[5, -1], [1, -2], [-3, -4], [2, -6]]\n",
      "[[5, -1], [1, -2], [2, -6], [-3, -4]]\n"
     ]
    }
   ],
   "source": [
    "lst = [[1, -2], [2, -6], [-3, -4], [5, -1]]\n",
    "lst.sort()\n",
    "print(lst)\n",
    "\n",
    "# sort through a nested list using the second element\n",
    "\n",
    "def sort_second_index(item):\n",
    "    return item[1]\n",
    "\n",
    "lst = [[1, -2], [2, -6], [-3, -4], [5, -1]]\n",
    "lst.sort(reverse=True, key = sort_second_index)\n",
    "print(lst)\n",
    "\n",
    "# sort through the sum of the nested list\n",
    "\n",
    "def sort_second_index(item):\n",
    "    return sum(item)\n",
    "\n",
    "lst = [[1, -2], [2, -6], [-3, -4], [5, -1]]\n",
    "lst.sort(reverse=True, key = sort_second_index)\n",
    "print(lst)    "
   ]
  },
  {
   "cell_type": "code",
   "execution_count": 14,
   "metadata": {},
   "outputs": [
    {
     "name": "stdout",
     "output_type": "stream",
     "text": [
      "['Joe', 'Tim', 'Sarah', 'Jennie', 'Bill']\n"
     ]
    }
   ],
   "source": [
    "people = {\"Tim\": 21, \"Joe\": 18, \"Sarah\": 25, \"Jennie\": 26, \"Bill\": 34}\n",
    "\n",
    "result = sorted(people, key=people.get)\n",
    "print(result)"
   ]
  }
 ],
 "metadata": {
  "kernelspec": {
   "display_name": "Python 3.8.2 64-bit",
   "language": "python",
   "name": "python3"
  },
  "language_info": {
   "codemirror_mode": {
    "name": "ipython",
    "version": 3
   },
   "file_extension": ".py",
   "mimetype": "text/x-python",
   "name": "python",
   "nbconvert_exporter": "python",
   "pygments_lexer": "ipython3",
   "version": "3.8.2"
  },
  "orig_nbformat": 4,
  "vscode": {
   "interpreter": {
    "hash": "31f2aee4e71d21fbe5cf8b01ff0e069b9275f58929596ceb00d14d90e3e16cd6"
   }
  }
 },
 "nbformat": 4,
 "nbformat_minor": 2
}
